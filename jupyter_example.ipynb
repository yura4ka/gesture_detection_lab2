{
 "cells": [
  {
   "cell_type": "code",
   "execution_count": 1,
   "id": "8d2bb073",
   "metadata": {},
   "outputs": [],
   "source": [
    "import cv2\n",
    "import mediapipe as mp\n",
    "\n",
    "cap = cv2.VideoCapture(0)\n",
    "\n",
    "wCam, hCam = 640, 480\n",
    "\n",
    "cap.set(3, wCam)\n",
    "cap.set(4, hCam)\n",
    "\n",
    "mp_hands = mp.solutions.hands\n",
    "mp_drawing = mp.solutions.drawing_utils\n",
    "\n",
    "hands = mp_hands.Hands(min_detection_confidence=0.8, min_tracking_confidence=0.5)"
   ]
  },
  {
   "cell_type": "code",
   "execution_count": 2,
   "id": "5272cf8a",
   "metadata": {},
   "outputs": [],
   "source": [
    "def get_squared_distance(point1, point2):\n",
    "    return (point1.x - point2.x) ** 2 + (point1.y - point2.y) ** 2"
   ]
  },
  {
   "cell_type": "code",
   "execution_count": 12,
   "id": "cd97d20e",
   "metadata": {},
   "outputs": [],
   "source": [
    "def check_constraints(hand_landmarks):\n",
    "    if not hand_landmarks:\n",
    "        return False\n",
    "    landmarks = hand_landmarks[0].landmark\n",
    "    fingers = [landmarks[8], landmarks[12], landmarks[16]]\n",
    "    pinky_tip = landmarks[20]\n",
    "    pinky_mcp = landmarks[17]\n",
    "    are_fingers_together = all(get_squared_distance(finger, landmarks[4]) < 0.007 for finger in fingers)\n",
    "    is_thumb_lowest = all(finger.y < landmarks[4].y for finger in fingers)\n",
    "    print(pinky_tip.x - pinky_mcp.x, pinky_tip.y < pinky_mcp.y)\n",
    "    is_pinky_straight_up = abs(pinky_tip.x - pinky_mcp.x) < 0.1 and pinky_tip.y < pinky_mcp.y\n",
    "    \n",
    "    return are_fingers_together and is_thumb_lowest and is_pinky_straight_up"
   ]
  },
  {
   "cell_type": "code",
   "execution_count": 4,
   "id": "c8ea53f4",
   "metadata": {},
   "outputs": [],
   "source": [
    "def draw_landmarks(image, hand_landmarks):\n",
    "    if not hand_landmarks:\n",
    "        return\n",
    "    for landmarks in hand_landmarks:\n",
    "        mp_drawing.draw_landmarks(image, landmarks, mp_hands.HAND_CONNECTIONS)"
   ]
  },
  {
   "cell_type": "code",
   "execution_count": null,
   "id": "2bb5a4c8",
   "metadata": {},
   "outputs": [],
   "source": [
    "while True:\n",
    "    success, image = cap.read()\n",
    "\n",
    "    image = cv2.flip(image, 1)\n",
    "    results = hands.process(image)\n",
    "    hand_landmarks = results.multi_hand_landmarks\n",
    "    draw_landmarks(image, hand_landmarks)\n",
    "    if check_constraints(hand_landmarks):\n",
    "        cv2.putText(image, \"+\", (50, 50), cv2.FONT_HERSHEY_SIMPLEX, 1, (0, 255, 0), 2)\n",
    "    cv2.imshow(\"Output\", image)\n",
    "\n",
    "    key = cv2.waitKey(1)\n",
    "    if key == 32:\n",
    "        break\n",
    "\n",
    "cv2.destroyAllWindows()"
   ]
  }
 ],
 "metadata": {
  "kernelspec": {
   "display_name": ".venv",
   "language": "python",
   "name": "python3"
  },
  "language_info": {
   "codemirror_mode": {
    "name": "ipython",
    "version": 3
   },
   "file_extension": ".py",
   "mimetype": "text/x-python",
   "name": "python",
   "nbconvert_exporter": "python",
   "pygments_lexer": "ipython3",
   "version": "3.12.3"
  }
 },
 "nbformat": 4,
 "nbformat_minor": 5
}
